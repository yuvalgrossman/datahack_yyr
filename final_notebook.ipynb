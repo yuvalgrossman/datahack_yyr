{
 "cells": [
  {
   "cell_type": "code",
   "execution_count": 2,
   "metadata": {},
   "outputs": [
    {
     "name": "stdout",
     "output_type": "stream",
     "text": [
      "Requirement already satisfied: cycler==0.10.0 in c:\\users\\yama\\docume~1\\datapr~1\\dh_yyr\\venv\\lib\\site-packages (from -r requirements.txt (line 1)) (0.10.0)\n",
      "Requirement already satisfied: datalearn19intro==0.0.5 in c:\\users\\yama\\docume~1\\datapr~1\\dh_yyr\\venv\\lib\\site-packages (from -r requirements.txt (line 2)) (0.0.5)\n",
      "Collecting joblib==0.13.2 (from -r requirements.txt (line 3))\n",
      "  Using cached https://files.pythonhosted.org/packages/cd/c1/50a758e8247561e58cb87305b1e90b171b8c767b15b12a1734001f41d356/joblib-0.13.2-py2.py3-none-any.whl\n",
      "Requirement already satisfied: kiwisolver==1.1.0 in c:\\users\\yama\\docume~1\\datapr~1\\dh_yyr\\venv\\lib\\site-packages (from -r requirements.txt (line 4)) (1.1.0)\n",
      "Requirement already satisfied: matplotlib==3.1.1 in c:\\users\\yama\\docume~1\\datapr~1\\dh_yyr\\venv\\lib\\site-packages (from -r requirements.txt (line 5)) (3.1.1)\n",
      "Requirement already satisfied: numpy==1.17.1 in c:\\users\\yama\\docume~1\\datapr~1\\dh_yyr\\venv\\lib\\site-packages (from -r requirements.txt (line 6)) (1.17.1)\n",
      "Requirement already satisfied: pandas==0.25.1 in c:\\users\\yama\\docume~1\\datapr~1\\dh_yyr\\venv\\lib\\site-packages (from -r requirements.txt (line 7)) (0.25.1)\n",
      "Requirement already satisfied: pyparsing==2.4.2 in c:\\users\\yama\\docume~1\\datapr~1\\dh_yyr\\venv\\lib\\site-packages (from -r requirements.txt (line 8)) (2.4.2)\n",
      "Requirement already satisfied: python-dateutil==2.8.0 in c:\\users\\yama\\docume~1\\datapr~1\\dh_yyr\\venv\\lib\\site-packages (from -r requirements.txt (line 9)) (2.8.0)\n",
      "Requirement already satisfied: pytz==2019.2 in c:\\users\\yama\\docume~1\\datapr~1\\dh_yyr\\venv\\lib\\site-packages (from -r requirements.txt (line 10)) (2019.2)\n",
      "Collecting scikit-learn==0.21.3 (from -r requirements.txt (line 11))\n",
      "  Downloading https://files.pythonhosted.org/packages/76/79/60050330fe57fb59f2c53d0d11673df28c20ea9315da3652477429fc4949/scikit_learn-0.21.3-cp36-cp36m-win_amd64.whl (5.9MB)\n",
      "Collecting scipy==1.3.1 (from -r requirements.txt (line 12))\n",
      "  Downloading https://files.pythonhosted.org/packages/e1/63/d919e16c5bd3502a0f7675f217625bd6f49a412cc1a856aa6b4b5b5b20bc/scipy-1.3.1-cp36-cp36m-win_amd64.whl (30.5MB)\n",
      "Collecting seaborn==0.9.0 (from -r requirements.txt (line 13))\n",
      "  Using cached https://files.pythonhosted.org/packages/a8/76/220ba4420459d9c4c9c9587c6ce607bf56c25b3d3d2de62056efe482dadc/seaborn-0.9.0-py3-none-any.whl\n",
      "Requirement already satisfied: six==1.12.0 in c:\\users\\yama\\docume~1\\datapr~1\\dh_yyr\\venv\\lib\\site-packages (from -r requirements.txt (line 14)) (1.12.0)\n",
      "Requirement already satisfied: setuptools in c:\\users\\yama\\docume~1\\datapr~1\\dh_yyr\\venv\\lib\\site-packages (from kiwisolver==1.1.0->-r requirements.txt (line 4)) (41.2.0)\n",
      "Installing collected packages: joblib, scipy, scikit-learn, seaborn\n",
      "Successfully installed joblib-0.13.2 scikit-learn-0.21.3 scipy-1.3.1 seaborn-0.9.0\n"
     ]
    }
   ],
   "source": [
    "!pip install -r requirements.txt"
   ]
  },
  {
   "cell_type": "code",
   "execution_count": 3,
   "metadata": {},
   "outputs": [],
   "source": [
    "import pandas as pd\n",
    "pd.set_option('display.max_columns', 500)\n",
    "import seaborn as sns"
   ]
  },
  {
   "cell_type": "code",
   "execution_count": 4,
   "metadata": {},
   "outputs": [],
   "source": [
    "data_path = './data/'"
   ]
  },
  {
   "cell_type": "code",
   "execution_count": 5,
   "metadata": {},
   "outputs": [
    {
     "name": "stderr",
     "output_type": "stream",
     "text": [
      "c:\\users\\yama\\docume~1\\datapr~1\\dh_yyr\\venv\\lib\\site-packages\\IPython\\core\\interactiveshell.py:3058: DtypeWarning: Columns (24,25) have mixed types. Specify dtype option on import or set low_memory=False.\n",
      "  interactivity=interactivity, compiler=compiler, result=result)\n"
     ]
    }
   ],
   "source": [
    "train_accounts = pd.read_csv(data_path + 'train_accounts.csv')\n",
    "train_users = pd.read_csv(data_path + 'train_users.csv')\n",
    "train_events = pd.read_csv(data_path + 'train_events.csv')\n",
    "train_subscriptions = pd.read_csv(data_path + 'train_subscriptions.csv')\n",
    "test_accounts = pd.read_csv(data_path + 'test_accounts.csv')\n",
    "test_users = pd.read_csv(data_path + 'test_users.csv')\n",
    "test_events = pd.read_csv(data_path + 'test_events.csv')\n",
    "test_subscriptions = pd.read_csv(data_path + 'test_subscriptions.csv')"
   ]
  },
  {
   "cell_type": "code",
   "execution_count": null,
   "metadata": {},
   "outputs": [],
   "source": []
  }
 ],
 "metadata": {
  "kernelspec": {
   "display_name": "Python 3",
   "language": "python",
   "name": "python3"
  },
  "language_info": {
   "codemirror_mode": {
    "name": "ipython",
    "version": 3
   },
   "file_extension": ".py",
   "mimetype": "text/x-python",
   "name": "python",
   "nbconvert_exporter": "python",
   "pygments_lexer": "ipython3",
   "version": "3.6.6"
  }
 },
 "nbformat": 4,
 "nbformat_minor": 2
}

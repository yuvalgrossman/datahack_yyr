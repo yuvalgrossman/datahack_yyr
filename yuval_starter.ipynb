{
 "cells": [
  {
   "cell_type": "code",
   "execution_count": 1,
   "metadata": {
    "collapsed": true
   },
   "outputs": [],
   "source": [
    "# import sys\n",
    "# sys.path.append('../data')\n",
    "# print each command: \n",
    "from IPython.core.interactiveshell import InteractiveShell\n",
    "InteractiveShell.ast_node_interactivity = \"all\"\n",
    "%matplotlib inline"
   ]
  },
  {
   "cell_type": "code",
   "execution_count": 2,
   "metadata": {
    "collapsed": true
   },
   "outputs": [],
   "source": [
    "# General DS libraries we are going to need\n",
    "import pandas as pd\n",
    "import numpy as np\n",
    "import matplotlib.pyplot as plt\n",
    "import seaborn as sns\n",
    "from datetime import timedelta\n",
    "\n",
    "# Importing our base model\n",
    "# [REDACTED ML MODEL USED]\n",
    "\n",
    "# Imports for working with our large dataset\n",
    "from sklearn.utils.random import sample_without_replacement\n",
    "from sklearn.model_selection import train_test_split\n",
    "\n",
    "# We need those for data manipulation and getting our features ready for the model\n",
    "from sklearn.preprocessing import OneHotEncoder, Normalizer, Binarizer\n",
    "from sklearn.compose import make_column_transformer\n",
    "\n",
    "# These can be used to measure our model's performance\n",
    "from sklearn import metrics\n",
    "from sklearn.metrics import classification_report, confusion_matrix\n",
    "\n",
    "# Ignore DataFrame assignment warnings\n",
    "pd.options.mode.chained_assignment = None\n",
    "\n",
    "pd.options.display.float_format = '{:,.2f}'.format"
   ]
  },
  {
   "cell_type": "code",
   "execution_count": 3,
   "metadata": {
    "collapsed": true
   },
   "outputs": [],
   "source": [
    "n_neighbors = 7 \n",
    "group_name = \"first\" \n",
    "samples_num = 100000 \n",
    "n_jobs = 1 \n",
    "path_prefix = \"./data\"\n",
    "nrows=2e6"
   ]
  },
  {
   "cell_type": "code",
   "execution_count": 4,
   "metadata": {},
   "outputs": [
    {
     "name": "stdout",
     "output_type": "stream",
     "text": [
      "Wall time: 22.1 s\n"
     ]
    }
   ],
   "source": [
    "%%time\n",
    "train_accounts = pd.read_csv('{}/train_accounts.csv'.format(path_prefix), low_memory=False, parse_dates=['created_at'], infer_datetime_format=True, nrows=nrows)\n",
    "train_users = pd.read_csv('{}/train_users.csv'.format(path_prefix), low_memory=False, parse_dates=['created_at'], infer_datetime_format=True, nrows=nrows)\n",
    "train_events = pd.read_csv('{}/train_events.csv'.format(path_prefix), low_memory=False, parse_dates=['date'], infer_datetime_format=True, date_parser=(lambda x: pd.to_datetime(x, errors='coerce')), nrows=nrows)\n",
    "train_subscriptions = pd.read_csv('{}/train_subscriptions.csv'.format(path_prefix), low_memory=False, parse_dates=['event_happened_at'], infer_datetime_format=True, nrows=nrows)"
   ]
  },
  {
   "cell_type": "code",
   "execution_count": 5,
   "metadata": {},
   "outputs": [
    {
     "name": "stdout",
     "output_type": "stream",
     "text": [
      "Wall time: 3.38 s\n"
     ]
    }
   ],
   "source": [
    "%%time\n",
    "test_accounts = pd.read_csv('{}/test_accounts.csv'.format(path_prefix), low_memory=False, parse_dates=['created_at'], infer_datetime_format=True)\n",
    "test_users = pd.read_csv('{}/test_users.csv'.format(path_prefix), low_memory=False, parse_dates=['created_at'], infer_datetime_format=True)\n",
    "test_events = pd.read_csv('{}/test_events.csv'.format(path_prefix), low_memory=False, parse_dates=['date'], infer_datetime_format=True, date_parser=(lambda x: pd.to_datetime(x, errors='coerce')))\n",
    "test_subscriptions = pd.read_csv('{}/test_subscriptions.csv'.format(path_prefix), low_memory=False, parse_dates=['event_happened_at'], infer_datetime_format=True)"
   ]
  },
  {
   "cell_type": "code",
   "execution_count": 6,
   "metadata": {
    "collapsed": true
   },
   "outputs": [],
   "source": [
    "accounts = pd.concat([train_accounts, test_accounts],sort=False)\n",
    "users = pd.concat([train_users, test_users],sort=False)\n",
    "events = pd.concat([train_events, test_events],sort=False)\n",
    "subscriptions = pd.concat([train_subscriptions, test_subscriptions],sort=False)"
   ]
  },
  {
   "cell_type": "code",
   "execution_count": 55,
   "metadata": {},
   "outputs": [
    {
     "data": {
      "text/plain": [
       "lead_score\n",
       "0    1328072\n",
       "1      33906\n",
       "Name: account_id, dtype: int64"
      ]
     },
     "execution_count": 55,
     "metadata": {},
     "output_type": "execute_result"
    }
   ],
   "source": [
    "train_accounts.groupby(by=['lead_score']).count()['account_id']"
   ]
  },
  {
   "cell_type": "code",
   "execution_count": 67,
   "metadata": {},
   "outputs": [
    {
     "data": {
      "text/plain": [
       "0.024894675244387206"
      ]
     },
     "execution_count": 67,
     "metadata": {},
     "output_type": "execute_result"
    }
   ],
   "source": [
    "33906/(1328072+33906)\n",
    "X_train, X_test, y_train, y_test = train_test_split(train_accounts.drop('lead_score',axis=1), train_accounts['lead_score'], test_size=0.05)"
   ]
  },
  {
   "cell_type": "code",
   "execution_count": 72,
   "metadata": {},
   "outputs": [
    {
     "data": {
      "text/plain": [
       "0.024836943794589755"
      ]
     },
     "execution_count": 72,
     "metadata": {},
     "output_type": "execute_result"
    },
    {
     "data": {
      "text/plain": [
       "1770"
      ]
     },
     "execution_count": 72,
     "metadata": {},
     "output_type": "execute_result"
    }
   ],
   "source": [
    "y_train.sum()/len(y_train)\n",
    "y_test.sum()"
   ]
  },
  {
   "cell_type": "markdown",
   "metadata": {},
   "source": [
    "# Feature engineering: 'country', 'time_diff', 'region'"
   ]
  },
  {
   "cell_type": "code",
   "execution_count": 166,
   "metadata": {
    "collapsed": true
   },
   "outputs": [],
   "source": [
    "x = accounts[['account_id','country', 'time_diff', 'region','lead_score']]\n",
    "x['country_counts'] = x.groupby('country')['country'].transform('count')\n",
    "x['region_counts'] = x.groupby('region')['region'].transform('count')"
   ]
  },
  {
   "cell_type": "code",
   "execution_count": 158,
   "metadata": {},
   "outputs": [
    {
     "data": {
      "text/html": [
       "<div>\n",
       "<style scoped>\n",
       "    .dataframe tbody tr th:only-of-type {\n",
       "        vertical-align: middle;\n",
       "    }\n",
       "\n",
       "    .dataframe tbody tr th {\n",
       "        vertical-align: top;\n",
       "    }\n",
       "\n",
       "    .dataframe thead th {\n",
       "        text-align: right;\n",
       "    }\n",
       "</style>\n",
       "<table border=\"1\" class=\"dataframe\">\n",
       "  <thead>\n",
       "    <tr style=\"text-align: right;\">\n",
       "      <th></th>\n",
       "      <th>account_id</th>\n",
       "      <th>country</th>\n",
       "      <th>time_diff</th>\n",
       "      <th>region</th>\n",
       "      <th>country_counts</th>\n",
       "      <th>region_counts</th>\n",
       "    </tr>\n",
       "  </thead>\n",
       "  <tbody>\n",
       "    <tr>\n",
       "      <td>0</td>\n",
       "      <td>1.00</td>\n",
       "      <td>AU</td>\n",
       "      <td>11.00</td>\n",
       "      <td>New South Wales</td>\n",
       "      <td>51,373.00</td>\n",
       "      <td>18,016.00</td>\n",
       "    </tr>\n",
       "    <tr>\n",
       "      <td>1</td>\n",
       "      <td>2.00</td>\n",
       "      <td>US</td>\n",
       "      <td>nan</td>\n",
       "      <td>New Jersey</td>\n",
       "      <td>331,020.00</td>\n",
       "      <td>14,239.00</td>\n",
       "    </tr>\n",
       "    <tr>\n",
       "      <td>2</td>\n",
       "      <td>3.00</td>\n",
       "      <td>US</td>\n",
       "      <td>-6.00</td>\n",
       "      <td>Louisiana</td>\n",
       "      <td>331,020.00</td>\n",
       "      <td>2,361.00</td>\n",
       "    </tr>\n",
       "    <tr>\n",
       "      <td>3</td>\n",
       "      <td>4.00</td>\n",
       "      <td>IL</td>\n",
       "      <td>nan</td>\n",
       "      <td>Tel Aviv</td>\n",
       "      <td>15,093.00</td>\n",
       "      <td>7,601.00</td>\n",
       "    </tr>\n",
       "    <tr>\n",
       "      <td>4</td>\n",
       "      <td>5.00</td>\n",
       "      <td>US</td>\n",
       "      <td>-5.00</td>\n",
       "      <td>North Carolina</td>\n",
       "      <td>331,020.00</td>\n",
       "      <td>8,513.00</td>\n",
       "    </tr>\n",
       "  </tbody>\n",
       "</table>\n",
       "</div>"
      ],
      "text/plain": [
       "   account_id country  time_diff           region  country_counts  \\\n",
       "0        1.00      AU      11.00  New South Wales       51,373.00   \n",
       "1        2.00      US        nan       New Jersey      331,020.00   \n",
       "2        3.00      US      -6.00        Louisiana      331,020.00   \n",
       "3        4.00      IL        nan         Tel Aviv       15,093.00   \n",
       "4        5.00      US      -5.00   North Carolina      331,020.00   \n",
       "\n",
       "   region_counts  \n",
       "0      18,016.00  \n",
       "1      14,239.00  \n",
       "2       2,361.00  \n",
       "3       7,601.00  \n",
       "4       8,513.00  "
      ]
     },
     "execution_count": 158,
     "metadata": {},
     "output_type": "execute_result"
    },
    {
     "data": {
      "text/plain": [
       "account_id        1433659\n",
       "country               236\n",
       "time_diff              41\n",
       "region               3601\n",
       "country_counts        175\n",
       "region_counts         656\n",
       "dtype: int64"
      ]
     },
     "execution_count": 158,
     "metadata": {},
     "output_type": "execute_result"
    },
    {
     "data": {
      "text/html": [
       "<div>\n",
       "<style scoped>\n",
       "    .dataframe tbody tr th:only-of-type {\n",
       "        vertical-align: middle;\n",
       "    }\n",
       "\n",
       "    .dataframe tbody tr th {\n",
       "        vertical-align: top;\n",
       "    }\n",
       "\n",
       "    .dataframe thead th {\n",
       "        text-align: right;\n",
       "    }\n",
       "</style>\n",
       "<table border=\"1\" class=\"dataframe\">\n",
       "  <thead>\n",
       "    <tr style=\"text-align: right;\">\n",
       "      <th></th>\n",
       "      <th>account_id</th>\n",
       "      <th>time_diff</th>\n",
       "      <th>country_counts</th>\n",
       "      <th>region_counts</th>\n",
       "    </tr>\n",
       "  </thead>\n",
       "  <tbody>\n",
       "    <tr>\n",
       "      <td>count</td>\n",
       "      <td>1,433,661.00</td>\n",
       "      <td>1,191,655.00</td>\n",
       "      <td>1,412,954.00</td>\n",
       "      <td>1,340,595.00</td>\n",
       "    </tr>\n",
       "    <tr>\n",
       "      <td>mean</td>\n",
       "      <td>716,829.94</td>\n",
       "      <td>-1.44</td>\n",
       "      <td>123,472.91</td>\n",
       "      <td>12,192.86</td>\n",
       "    </tr>\n",
       "    <tr>\n",
       "      <td>std</td>\n",
       "      <td>413,861.68</td>\n",
       "      <td>4.72</td>\n",
       "      <td>124,294.70</td>\n",
       "      <td>15,064.11</td>\n",
       "    </tr>\n",
       "    <tr>\n",
       "      <td>min</td>\n",
       "      <td>1.00</td>\n",
       "      <td>-12.00</td>\n",
       "      <td>1.00</td>\n",
       "      <td>1.00</td>\n",
       "    </tr>\n",
       "    <tr>\n",
       "      <td>25%</td>\n",
       "      <td>358,416.00</td>\n",
       "      <td>-5.00</td>\n",
       "      <td>27,073.00</td>\n",
       "      <td>1,640.00</td>\n",
       "    </tr>\n",
       "    <tr>\n",
       "      <td>50%</td>\n",
       "      <td>716,830.00</td>\n",
       "      <td>-3.00</td>\n",
       "      <td>67,655.00</td>\n",
       "      <td>6,652.00</td>\n",
       "    </tr>\n",
       "    <tr>\n",
       "      <td>75%</td>\n",
       "      <td>1,075,244.00</td>\n",
       "      <td>2.00</td>\n",
       "      <td>163,931.00</td>\n",
       "      <td>15,065.00</td>\n",
       "    </tr>\n",
       "    <tr>\n",
       "      <td>max</td>\n",
       "      <td>1,433,659.00</td>\n",
       "      <td>14.00</td>\n",
       "      <td>331,020.00</td>\n",
       "      <td>56,912.00</td>\n",
       "    </tr>\n",
       "  </tbody>\n",
       "</table>\n",
       "</div>"
      ],
      "text/plain": [
       "        account_id    time_diff  country_counts  region_counts\n",
       "count 1,433,661.00 1,191,655.00    1,412,954.00   1,340,595.00\n",
       "mean    716,829.94        -1.44      123,472.91      12,192.86\n",
       "std     413,861.68         4.72      124,294.70      15,064.11\n",
       "min           1.00       -12.00            1.00           1.00\n",
       "25%     358,416.00        -5.00       27,073.00       1,640.00\n",
       "50%     716,830.00        -3.00       67,655.00       6,652.00\n",
       "75%   1,075,244.00         2.00      163,931.00      15,065.00\n",
       "max   1,433,659.00        14.00      331,020.00      56,912.00"
      ]
     },
     "execution_count": 158,
     "metadata": {},
     "output_type": "execute_result"
    },
    {
     "name": "stdout",
     "output_type": "stream",
     "text": [
      "nan values percentage:\n"
     ]
    },
    {
     "data": {
      "text/plain": [
       "account_id        0.00\n",
       "country           1.44\n",
       "time_diff        16.88\n",
       "region            6.49\n",
       "country_counts    1.44\n",
       "region_counts     6.49\n",
       "dtype: float64"
      ]
     },
     "execution_count": 158,
     "metadata": {},
     "output_type": "execute_result"
    }
   ],
   "source": [
    "x.head()\n",
    "x.nunique()\n",
    "x.describe()\n",
    "print('nan values percentage:')\n",
    "x.isna().sum()/len(x)*100"
   ]
  },
  {
   "cell_type": "code",
   "execution_count": 214,
   "metadata": {},
   "outputs": [
    {
     "data": {
      "text/plain": [
       "0.4768909805037592"
      ]
     },
     "execution_count": 214,
     "metadata": {},
     "output_type": "execute_result"
    },
    {
     "data": {
      "text/html": [
       "<div>\n",
       "<style scoped>\n",
       "    .dataframe tbody tr th:only-of-type {\n",
       "        vertical-align: middle;\n",
       "    }\n",
       "\n",
       "    .dataframe tbody tr th {\n",
       "        vertical-align: top;\n",
       "    }\n",
       "\n",
       "    .dataframe thead th {\n",
       "        text-align: right;\n",
       "    }\n",
       "</style>\n",
       "<table border=\"1\" class=\"dataframe\">\n",
       "  <thead>\n",
       "    <tr style=\"text-align: right;\">\n",
       "      <th></th>\n",
       "      <th>account_id</th>\n",
       "      <th>time_diff</th>\n",
       "      <th>country</th>\n",
       "    </tr>\n",
       "  </thead>\n",
       "  <tbody>\n",
       "    <tr>\n",
       "      <td>41</td>\n",
       "      <td>43.00</td>\n",
       "      <td>1.00</td>\n",
       "      <td>NaN</td>\n",
       "    </tr>\n",
       "    <tr>\n",
       "      <td>130</td>\n",
       "      <td>139.00</td>\n",
       "      <td>1.00</td>\n",
       "      <td>NaN</td>\n",
       "    </tr>\n",
       "    <tr>\n",
       "      <td>163</td>\n",
       "      <td>174.00</td>\n",
       "      <td>-5.00</td>\n",
       "      <td>NaN</td>\n",
       "    </tr>\n",
       "    <tr>\n",
       "      <td>201</td>\n",
       "      <td>213.00</td>\n",
       "      <td>-5.00</td>\n",
       "      <td>NaN</td>\n",
       "    </tr>\n",
       "    <tr>\n",
       "      <td>227</td>\n",
       "      <td>242.00</td>\n",
       "      <td>11.00</td>\n",
       "      <td>NaN</td>\n",
       "    </tr>\n",
       "    <tr>\n",
       "      <td>...</td>\n",
       "      <td>...</td>\n",
       "      <td>...</td>\n",
       "      <td>...</td>\n",
       "    </tr>\n",
       "    <tr>\n",
       "      <td>61147</td>\n",
       "      <td>1,224,146.00</td>\n",
       "      <td>-3.00</td>\n",
       "      <td>NaN</td>\n",
       "    </tr>\n",
       "    <tr>\n",
       "      <td>61217</td>\n",
       "      <td>1,225,535.00</td>\n",
       "      <td>2.00</td>\n",
       "      <td>NaN</td>\n",
       "    </tr>\n",
       "    <tr>\n",
       "      <td>61828</td>\n",
       "      <td>1,236,909.00</td>\n",
       "      <td>-5.00</td>\n",
       "      <td>NaN</td>\n",
       "    </tr>\n",
       "    <tr>\n",
       "      <td>63406</td>\n",
       "      <td>1,268,203.00</td>\n",
       "      <td>2.00</td>\n",
       "      <td>NaN</td>\n",
       "    </tr>\n",
       "    <tr>\n",
       "      <td>63917</td>\n",
       "      <td>1,278,773.00</td>\n",
       "      <td>5.50</td>\n",
       "      <td>NaN</td>\n",
       "    </tr>\n",
       "  </tbody>\n",
       "</table>\n",
       "<p>6837 rows × 3 columns</p>\n",
       "</div>"
      ],
      "text/plain": [
       "        account_id  time_diff country\n",
       "41           43.00       1.00     NaN\n",
       "130         139.00       1.00     NaN\n",
       "163         174.00      -5.00     NaN\n",
       "201         213.00      -5.00     NaN\n",
       "227         242.00      11.00     NaN\n",
       "...            ...        ...     ...\n",
       "61147 1,224,146.00      -3.00     NaN\n",
       "61217 1,225,535.00       2.00     NaN\n",
       "61828 1,236,909.00      -5.00     NaN\n",
       "63406 1,268,203.00       2.00     NaN\n",
       "63917 1,278,773.00       5.50     NaN\n",
       "\n",
       "[6837 rows x 3 columns]"
      ]
     },
     "execution_count": 214,
     "metadata": {},
     "output_type": "execute_result"
    },
    {
     "data": {
      "text/html": [
       "<div>\n",
       "<style scoped>\n",
       "    .dataframe tbody tr th:only-of-type {\n",
       "        vertical-align: middle;\n",
       "    }\n",
       "\n",
       "    .dataframe tbody tr th {\n",
       "        vertical-align: top;\n",
       "    }\n",
       "\n",
       "    .dataframe thead th {\n",
       "        text-align: right;\n",
       "    }\n",
       "</style>\n",
       "<table border=\"1\" class=\"dataframe\">\n",
       "  <thead>\n",
       "    <tr style=\"text-align: right;\">\n",
       "      <th></th>\n",
       "    </tr>\n",
       "  </thead>\n",
       "  <tbody>\n",
       "  </tbody>\n",
       "</table>\n",
       "</div>"
      ],
      "text/plain": [
       "Empty DataFrame\n",
       "Columns: []\n",
       "Index: []"
      ]
     },
     "execution_count": 214,
     "metadata": {},
     "output_type": "execute_result"
    }
   ],
   "source": [
    "time_diff_no_country = (x['time_diff'].notnull() & x['country'].isna())\n",
    "time_diff_no_country.mean()*100\n",
    "\n",
    "x.loc[(time_diff_no_country),['account_id','time_diff','country']]\n",
    "\n",
    "\n",
    "x2"
   ]
  },
  {
   "cell_type": "code",
   "execution_count": 229,
   "metadata": {},
   "outputs": [
    {
     "data": {
      "text/html": [
       "<div>\n",
       "<style scoped>\n",
       "    .dataframe tbody tr th:only-of-type {\n",
       "        vertical-align: middle;\n",
       "    }\n",
       "\n",
       "    .dataframe tbody tr th {\n",
       "        vertical-align: top;\n",
       "    }\n",
       "\n",
       "    .dataframe thead th {\n",
       "        text-align: right;\n",
       "    }\n",
       "</style>\n",
       "<table border=\"1\" class=\"dataframe\">\n",
       "  <thead>\n",
       "    <tr style=\"text-align: right;\">\n",
       "      <th></th>\n",
       "      <th>country</th>\n",
       "      <th>train</th>\n",
       "      <th>test</th>\n",
       "    </tr>\n",
       "    <tr>\n",
       "      <th>time_diff</th>\n",
       "      <th></th>\n",
       "      <th></th>\n",
       "      <th></th>\n",
       "    </tr>\n",
       "  </thead>\n",
       "  <tbody>\n",
       "    <tr>\n",
       "      <td>-12.00</td>\n",
       "      <td>188</td>\n",
       "      <td>178.00</td>\n",
       "      <td>10.00</td>\n",
       "    </tr>\n",
       "    <tr>\n",
       "      <td>-11.00</td>\n",
       "      <td>68</td>\n",
       "      <td>63.00</td>\n",
       "      <td>5.00</td>\n",
       "    </tr>\n",
       "    <tr>\n",
       "      <td>-10.00</td>\n",
       "      <td>1267</td>\n",
       "      <td>1,197.00</td>\n",
       "      <td>70.00</td>\n",
       "    </tr>\n",
       "    <tr>\n",
       "      <td>-9.50</td>\n",
       "      <td>1</td>\n",
       "      <td>nan</td>\n",
       "      <td>1.00</td>\n",
       "    </tr>\n",
       "    <tr>\n",
       "      <td>-9.00</td>\n",
       "      <td>261</td>\n",
       "      <td>248.00</td>\n",
       "      <td>13.00</td>\n",
       "    </tr>\n",
       "    <tr>\n",
       "      <td>-8.00</td>\n",
       "      <td>27114</td>\n",
       "      <td>25,761.00</td>\n",
       "      <td>1,353.00</td>\n",
       "    </tr>\n",
       "    <tr>\n",
       "      <td>-7.00</td>\n",
       "      <td>60488</td>\n",
       "      <td>57,483.00</td>\n",
       "      <td>3,005.00</td>\n",
       "    </tr>\n",
       "    <tr>\n",
       "      <td>-6.00</td>\n",
       "      <td>103160</td>\n",
       "      <td>97,960.00</td>\n",
       "      <td>5,200.00</td>\n",
       "    </tr>\n",
       "    <tr>\n",
       "      <td>-5.00</td>\n",
       "      <td>230699</td>\n",
       "      <td>219,260.00</td>\n",
       "      <td>11,439.00</td>\n",
       "    </tr>\n",
       "    <tr>\n",
       "      <td>-4.50</td>\n",
       "      <td>80</td>\n",
       "      <td>76.00</td>\n",
       "      <td>4.00</td>\n",
       "    </tr>\n",
       "    <tr>\n",
       "      <td>-4.00</td>\n",
       "      <td>111005</td>\n",
       "      <td>105,556.00</td>\n",
       "      <td>5,449.00</td>\n",
       "    </tr>\n",
       "    <tr>\n",
       "      <td>-3.50</td>\n",
       "      <td>100</td>\n",
       "      <td>98.00</td>\n",
       "      <td>2.00</td>\n",
       "    </tr>\n",
       "    <tr>\n",
       "      <td>-3.00</td>\n",
       "      <td>137687</td>\n",
       "      <td>130,739.00</td>\n",
       "      <td>6,948.00</td>\n",
       "    </tr>\n",
       "    <tr>\n",
       "      <td>-2.50</td>\n",
       "      <td>107</td>\n",
       "      <td>99.00</td>\n",
       "      <td>8.00</td>\n",
       "    </tr>\n",
       "    <tr>\n",
       "      <td>-2.00</td>\n",
       "      <td>37537</td>\n",
       "      <td>35,687.00</td>\n",
       "      <td>1,850.00</td>\n",
       "    </tr>\n",
       "    <tr>\n",
       "      <td>-1.00</td>\n",
       "      <td>108</td>\n",
       "      <td>103.00</td>\n",
       "      <td>5.00</td>\n",
       "    </tr>\n",
       "    <tr>\n",
       "      <td>0.00</td>\n",
       "      <td>40921</td>\n",
       "      <td>38,915.00</td>\n",
       "      <td>2,006.00</td>\n",
       "    </tr>\n",
       "    <tr>\n",
       "      <td>1.00</td>\n",
       "      <td>135699</td>\n",
       "      <td>128,776.00</td>\n",
       "      <td>6,923.00</td>\n",
       "    </tr>\n",
       "    <tr>\n",
       "      <td>2.00</td>\n",
       "      <td>108038</td>\n",
       "      <td>102,690.00</td>\n",
       "      <td>5,348.00</td>\n",
       "    </tr>\n",
       "    <tr>\n",
       "      <td>3.00</td>\n",
       "      <td>39084</td>\n",
       "      <td>37,246.00</td>\n",
       "      <td>1,838.00</td>\n",
       "    </tr>\n",
       "    <tr>\n",
       "      <td>3.50</td>\n",
       "      <td>1520</td>\n",
       "      <td>1,450.00</td>\n",
       "      <td>70.00</td>\n",
       "    </tr>\n",
       "    <tr>\n",
       "      <td>4.00</td>\n",
       "      <td>16357</td>\n",
       "      <td>15,536.00</td>\n",
       "      <td>821.00</td>\n",
       "    </tr>\n",
       "    <tr>\n",
       "      <td>4.50</td>\n",
       "      <td>1953</td>\n",
       "      <td>1,836.00</td>\n",
       "      <td>117.00</td>\n",
       "    </tr>\n",
       "    <tr>\n",
       "      <td>5.00</td>\n",
       "      <td>2190</td>\n",
       "      <td>2,077.00</td>\n",
       "      <td>113.00</td>\n",
       "    </tr>\n",
       "    <tr>\n",
       "      <td>5.50</td>\n",
       "      <td>24612</td>\n",
       "      <td>23,382.00</td>\n",
       "      <td>1,230.00</td>\n",
       "    </tr>\n",
       "    <tr>\n",
       "      <td>5.75</td>\n",
       "      <td>377</td>\n",
       "      <td>362.00</td>\n",
       "      <td>15.00</td>\n",
       "    </tr>\n",
       "    <tr>\n",
       "      <td>6.00</td>\n",
       "      <td>714</td>\n",
       "      <td>685.00</td>\n",
       "      <td>29.00</td>\n",
       "    </tr>\n",
       "    <tr>\n",
       "      <td>6.50</td>\n",
       "      <td>213</td>\n",
       "      <td>201.00</td>\n",
       "      <td>12.00</td>\n",
       "    </tr>\n",
       "    <tr>\n",
       "      <td>7.00</td>\n",
       "      <td>12237</td>\n",
       "      <td>11,595.00</td>\n",
       "      <td>642.00</td>\n",
       "    </tr>\n",
       "    <tr>\n",
       "      <td>8.00</td>\n",
       "      <td>33984</td>\n",
       "      <td>32,248.00</td>\n",
       "      <td>1,736.00</td>\n",
       "    </tr>\n",
       "    <tr>\n",
       "      <td>8.75</td>\n",
       "      <td>2</td>\n",
       "      <td>2.00</td>\n",
       "      <td>nan</td>\n",
       "    </tr>\n",
       "    <tr>\n",
       "      <td>9.00</td>\n",
       "      <td>6896</td>\n",
       "      <td>6,543.00</td>\n",
       "      <td>353.00</td>\n",
       "    </tr>\n",
       "    <tr>\n",
       "      <td>9.50</td>\n",
       "      <td>1444</td>\n",
       "      <td>1,377.00</td>\n",
       "      <td>67.00</td>\n",
       "    </tr>\n",
       "    <tr>\n",
       "      <td>10.00</td>\n",
       "      <td>21072</td>\n",
       "      <td>20,037.00</td>\n",
       "      <td>1,035.00</td>\n",
       "    </tr>\n",
       "    <tr>\n",
       "      <td>10.50</td>\n",
       "      <td>1487</td>\n",
       "      <td>1,409.00</td>\n",
       "      <td>78.00</td>\n",
       "    </tr>\n",
       "    <tr>\n",
       "      <td>11.00</td>\n",
       "      <td>16206</td>\n",
       "      <td>15,374.00</td>\n",
       "      <td>832.00</td>\n",
       "    </tr>\n",
       "    <tr>\n",
       "      <td>12.00</td>\n",
       "      <td>4900</td>\n",
       "      <td>4,655.00</td>\n",
       "      <td>245.00</td>\n",
       "    </tr>\n",
       "    <tr>\n",
       "      <td>12.75</td>\n",
       "      <td>1</td>\n",
       "      <td>1.00</td>\n",
       "      <td>nan</td>\n",
       "    </tr>\n",
       "    <tr>\n",
       "      <td>13.00</td>\n",
       "      <td>5015</td>\n",
       "      <td>4,746.00</td>\n",
       "      <td>269.00</td>\n",
       "    </tr>\n",
       "    <tr>\n",
       "      <td>13.75</td>\n",
       "      <td>3</td>\n",
       "      <td>2.00</td>\n",
       "      <td>1.00</td>\n",
       "    </tr>\n",
       "    <tr>\n",
       "      <td>14.00</td>\n",
       "      <td>23</td>\n",
       "      <td>22.00</td>\n",
       "      <td>1.00</td>\n",
       "    </tr>\n",
       "  </tbody>\n",
       "</table>\n",
       "</div>"
      ],
      "text/plain": [
       "           country      train      test\n",
       "time_diff                              \n",
       "-12.00         188     178.00     10.00\n",
       "-11.00          68      63.00      5.00\n",
       "-10.00        1267   1,197.00     70.00\n",
       "-9.50            1        nan      1.00\n",
       "-9.00          261     248.00     13.00\n",
       "-8.00        27114  25,761.00  1,353.00\n",
       "-7.00        60488  57,483.00  3,005.00\n",
       "-6.00       103160  97,960.00  5,200.00\n",
       "-5.00       230699 219,260.00 11,439.00\n",
       "-4.50           80      76.00      4.00\n",
       "-4.00       111005 105,556.00  5,449.00\n",
       "-3.50          100      98.00      2.00\n",
       "-3.00       137687 130,739.00  6,948.00\n",
       "-2.50          107      99.00      8.00\n",
       "-2.00        37537  35,687.00  1,850.00\n",
       "-1.00          108     103.00      5.00\n",
       "0.00         40921  38,915.00  2,006.00\n",
       "1.00        135699 128,776.00  6,923.00\n",
       "2.00        108038 102,690.00  5,348.00\n",
       "3.00         39084  37,246.00  1,838.00\n",
       "3.50          1520   1,450.00     70.00\n",
       "4.00         16357  15,536.00    821.00\n",
       "4.50          1953   1,836.00    117.00\n",
       "5.00          2190   2,077.00    113.00\n",
       "5.50         24612  23,382.00  1,230.00\n",
       "5.75           377     362.00     15.00\n",
       "6.00           714     685.00     29.00\n",
       "6.50           213     201.00     12.00\n",
       "7.00         12237  11,595.00    642.00\n",
       "8.00         33984  32,248.00  1,736.00\n",
       "8.75             2       2.00       nan\n",
       "9.00          6896   6,543.00    353.00\n",
       "9.50          1444   1,377.00     67.00\n",
       "10.00        21072  20,037.00  1,035.00\n",
       "10.50         1487   1,409.00     78.00\n",
       "11.00        16206  15,374.00    832.00\n",
       "12.00         4900   4,655.00    245.00\n",
       "12.75            1       1.00       nan\n",
       "13.00         5015   4,746.00    269.00\n",
       "13.75            3       2.00      1.00\n",
       "14.00           23      22.00      1.00"
      ]
     },
     "execution_count": 229,
     "metadata": {},
     "output_type": "execute_result"
    },
    {
     "data": {
      "text/plain": [
       "array([[<matplotlib.axes._subplots.AxesSubplot object at 0x0000002F1BAE76D8>,\n",
       "        <matplotlib.axes._subplots.AxesSubplot object at 0x0000002F1BB50DA0>],\n",
       "       [<matplotlib.axes._subplots.AxesSubplot object at 0x0000002F1BB8BD68>,\n",
       "        <matplotlib.axes._subplots.AxesSubplot object at 0x0000002F1BBCD278>]],\n",
       "      dtype=object)"
      ]
     },
     "execution_count": 229,
     "metadata": {},
     "output_type": "execute_result"
    },
    {
     "data": {
      "image/png": "[encoded data removed]",
      "text/plain": [
       "<matplotlib.figure.Figure at 0x2f1bab9320>"
      ]
     },
     "metadata": {},
     "output_type": "display_data"
    }
   ],
   "source": [
    "# x2=pd.DataFrame()\n",
    "x2=accounts[['country','time_diff']].groupby(by='time_diff').count()\n",
    "x2['train']=train_accounts[['country','time_diff']].groupby(by='time_diff').count()\n",
    "x2['test']=test_accounts[['country','time_diff']].groupby(by='time_diff').count()\n",
    "# x2/=x2.sum()\n",
    "x2\n",
    "x2.hist()\n",
    "plt.show()"
   ]
  },
  {
   "cell_type": "code",
   "execution_count": 273,
   "metadata": {},
   "outputs": [
    {
     "data": {
      "text/plain": [
       "all     1,412,954.00\n",
       "train   1,342,302.00\n",
       "test       70,652.00\n",
       "dtype: float64"
      ]
     },
     "execution_count": 273,
     "metadata": {},
     "output_type": "execute_result"
    },
    {
     "data": {
      "text/plain": [
       "<matplotlib.axes._subplots.AxesSubplot at 0x2f3bb54940>"
      ]
     },
     "execution_count": 273,
     "metadata": {},
     "output_type": "execute_result"
    },
    {
     "data": {
      "image/png": "[encoded data removed]",
      "text/plain": [
       "<matplotlib.figure.Figure at 0x2f3bb74048>"
      ]
     },
     "metadata": {},
     "output_type": "display_data"
    }
   ],
   "source": [
    "x2=pd.DataFrame()\n",
    "x2['all']=accounts.groupby('country')['country'].count()\n",
    "# groupby('country')['country'].transform('count')\n",
    "x2['train']=train_accounts.groupby('country')['country'].count()\n",
    "x2['test']=test_accounts.groupby('country')['country'].count()\n",
    "x2=x2.sum()\n",
    "x2\n",
    "x2.hist(density=False)\n",
    "plt.show()"
   ]
  },
  {
   "cell_type": "code",
   "execution_count": 293,
   "metadata": {},
   "outputs": [
    {
     "name": "stdout",
     "output_type": "stream",
     "text": [
      "<class 'pandas.core.frame.DataFrame'>\n",
      "Int64Index: 2890269 entries, 0 to 890268\n",
      "Data columns (total 23 columns):\n",
      "date                        datetime64[ns]\n",
      "user_id                     float64\n",
      "account_id                  float64\n",
      "total_events                float64\n",
      "column_events               int64\n",
      "board_events                int64\n",
      "num_of_boards               int64\n",
      "count_kind_columns          int64\n",
      "content_events              int64\n",
      "group_events                int64\n",
      "invite_events               int64\n",
      "import_events               int64\n",
      "notification_events         int64\n",
      "new_entry_events            int64\n",
      "payment_events              int64\n",
      "inbox_events                int64\n",
      "communicating_events        int64\n",
      "non_communicating_events    float64\n",
      "web_events                  int64\n",
      "ios_events                  int64\n",
      "android_events              int64\n",
      "desktop_app_events          int64\n",
      "empty_events                int64\n",
      "dtypes: datetime64[ns](1), float64(4), int64(18)\n",
      "memory usage: 529.2 MB\n"
     ]
    }
   ],
   "source": [
    "events.info()"
   ]
  },
  {
   "cell_type": "code",
   "execution_count": 404,
   "metadata": {},
   "outputs": [],
   "source": [
    "x=accounts.set_index('account_id')\n",
    "y=events.groupby('account_id')['total_events'].sum()\n",
    "z1=x.join(y)\n",
    "# z1['total_events']=z1['total_events'].fillna(0)\n",
    "z1=z1.fillna(0)\n",
    "# z=z.drop('user_id',axis=1)"
   ]
  },
  {
   "cell_type": "code",
   "execution_count": 411,
   "metadata": {},
   "outputs": [
    {
     "data": {
      "text/plain": [
       "<matplotlib.axes._subplots.AxesSubplot at 0x2fdb0f2c18>"
      ]
     },
     "execution_count": 411,
     "metadata": {},
     "output_type": "execute_result"
    },
    {
     "data": {
      "image/png": "[encoded data removed]",
      "text/plain": [
       "<matplotlib.figure.Figure at 0x30061c7eb8>"
      ]
     },
     "metadata": {},
     "output_type": "display_data"
    }
   ],
   "source": [
    "corrmat = z1.select_dtypes('number').corr()\n",
    "f, ax = plt.subplots(figsize = (11,9))\n",
    "sns.heatmap(abs(corrmat), ax=ax, cmap='YlGnBu', linewidths= 0.1)"
   ]
  },
  {
   "cell_type": "code",
   "execution_count": 412,
   "metadata": {},
   "outputs": [],
   "source": [
    "x=accounts.set_index('account_id')\n",
    "y=subscriptions.groupby('account_id')['invoice_charge_amount_usd','mrr_gain'].sum()\n",
    "# y=y.drop(['subscription_id','plan_id'],axis=1)\n",
    "z2=x.join(y)\n",
    "# z2[y.columns.values]=z2[y.columns.values].fillna(0)\n",
    "z2=z2.fillna(0)"
   ]
  },
  {
   "cell_type": "code",
   "execution_count": 413,
   "metadata": {},
   "outputs": [
    {
     "data": {
      "text/plain": [
       "<matplotlib.axes._subplots.AxesSubplot at 0x2fdb6d9f98>"
      ]
     },
     "execution_count": 413,
     "metadata": {},
     "output_type": "execute_result"
    },
    {
     "data": {
      "image/png": "[encoded data removed]",
      "text/plain": [
       "<matplotlib.figure.Figure at 0x2fe0505940>"
      ]
     },
     "metadata": {},
     "output_type": "display_data"
    }
   ],
   "source": [
    "corrmat = z2.select_dtypes('number').corr()\n",
    "f, ax = plt.subplots(figsize = (11,9))\n",
    "sns.heatmap(abs(corrmat), ax=ax, cmap='YlGnBu', linewidths= 0.1)"
   ]
  },
  {
   "cell_type": "code",
   "execution_count": 414,
   "metadata": {},
   "outputs": [
    {
     "data": {
      "text/plain": [
       "<matplotlib.axes._subplots.AxesSubplot at 0x3001df6550>"
      ]
     },
     "execution_count": 414,
     "metadata": {},
     "output_type": "execute_result"
    },
    {
     "data": {
      "image/png": "[encoded data removed]",
      "text/plain": [
       "<matplotlib.figure.Figure at 0x2f6ed4aa90>"
      ]
     },
     "metadata": {},
     "output_type": "display_data"
    }
   ],
   "source": [
    "z=pd.concat([z1,z2],sort=False)\n",
    "corrmat = z.select_dtypes('number').corr()\n",
    "f, ax = plt.subplots(figsize = (11,9))\n",
    "sns.heatmap(abs(corrmat), ax=ax, cmap='YlGnBu', linewidths= 0.1)"
   ]
  }
 ],
 "metadata": {
  "kernelspec": {
   "display_name": "Python 3",
   "language": "python",
   "name": "python3"
  },
  "language_info": {
   "codemirror_mode": {
    "name": "ipython",
    "version": 3
   },
   "file_extension": ".py",
   "mimetype": "text/x-python",
   "name": "python",
   "nbconvert_exporter": "python",
   "pygments_lexer": "ipython3",
   "version": "3.6.3"
  }
 },
 "nbformat": 4,
 "nbformat_minor": 2
}

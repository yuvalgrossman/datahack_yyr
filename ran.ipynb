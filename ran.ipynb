{
 "cells": [
  {
   "cell_type": "code",
   "execution_count": 105,
   "metadata": {},
   "outputs": [],
   "source": [
    "import pandas as pd\n",
    "pd.set_option('display.max_columns', 500)\n",
    "import seaborn as sns"
   ]
  },
  {
   "cell_type": "code",
   "execution_count": 2,
   "metadata": {},
   "outputs": [],
   "source": [
    "data_path = './data/'"
   ]
  },
  {
   "cell_type": "code",
   "execution_count": 87,
   "metadata": {},
   "outputs": [
    {
     "name": "stderr",
     "output_type": "stream",
     "text": [
      "/home/ran/Dev/dh_yyr/venv/lib/python3.6/site-packages/IPython/core/interactiveshell.py:3058: DtypeWarning: Columns (24,25) have mixed types. Specify dtype option on import or set low_memory=False.\n",
      "  interactivity=interactivity, compiler=compiler, result=result)\n"
     ]
    }
   ],
   "source": [
    "train_accounts = pd.read_csv(data_path + 'train_accounts.csv')"
   ]
  },
  {
   "cell_type": "code",
   "execution_count": 3,
   "metadata": {},
   "outputs": [
    {
     "name": "stderr",
     "output_type": "stream",
     "text": [
      "/home/ran/Dev/dh_yyr/venv/lib/python3.6/site-packages/IPython/core/interactiveshell.py:3058: DtypeWarning: Columns (24,25) have mixed types. Specify dtype option on import or set low_memory=False.\n",
      "  interactivity=interactivity, compiler=compiler, result=result)\n"
     ]
    }
   ],
   "source": [
    "train_accounts = pd.read_csv(data_path + 'train_accounts.csv')\n",
    "train_users = pd.read_csv(data_path + 'train_users.csv')\n",
    "train_events = pd.read_csv(data_path + 'train_events.csv')\n",
    "train_subscriptions = pd.read_csv(data_path + 'train_subscriptions.csv')\n",
    "test_accounts = pd.read_csv(data_path + 'test_accounts.csv')\n",
    "test_users = pd.read_csv(data_path + 'test_users.csv')\n",
    "test_events = pd.read_csv(data_path + 'test_events.csv')\n",
    "test_subscriptions = pd.read_csv(data_path + 'test_subscriptions.csv')"
   ]
  },
  {
   "cell_type": "markdown",
   "metadata": {},
   "source": [
    "accounts = pd.concat([train_accounts, test_accounts], sort=False)\n",
    "users = pd.concat([train_users, test_users], sort=False)\n",
    "events = pd.concat([train_events, test_events], sort=False)\n",
    "subscriptions = pd.concat([train_subscriptions, test_subscriptions], sort=False)\n",
    "print(f'accounts: {len(accounts)}')\n",
    "print(f'users {len(users)}')\n",
    "print(f'events {len(events)}')\n",
    "print(f'subs {len(subscriptions)}')"
   ]
  },
  {
   "cell_type": "code",
   "execution_count": 4,
   "metadata": {},
   "outputs": [
    {
     "data": {
      "text/html": [
       "<div>\n",
       "<style scoped>\n",
       "    .dataframe tbody tr th:only-of-type {\n",
       "        vertical-align: middle;\n",
       "    }\n",
       "\n",
       "    .dataframe tbody tr th {\n",
       "        vertical-align: top;\n",
       "    }\n",
       "\n",
       "    .dataframe thead th {\n",
       "        text-align: right;\n",
       "    }\n",
       "</style>\n",
       "<table border=\"1\" class=\"dataframe\">\n",
       "  <thead>\n",
       "    <tr style=\"text-align: right;\">\n",
       "      <th></th>\n",
       "      <th>account_id</th>\n",
       "      <th>plan_id</th>\n",
       "      <th>churn_reason</th>\n",
       "      <th>time_diff</th>\n",
       "      <th>paying</th>\n",
       "      <th>has_logo</th>\n",
       "      <th>collection_21_days</th>\n",
       "      <th>company_size</th>\n",
       "      <th>max_team_size</th>\n",
       "      <th>min_team_size</th>\n",
       "      <th>mrr</th>\n",
       "      <th>lead_score</th>\n",
       "    </tr>\n",
       "  </thead>\n",
       "  <tbody>\n",
       "    <tr>\n",
       "      <td>count</td>\n",
       "      <td>1.361978e+06</td>\n",
       "      <td>28603.000000</td>\n",
       "      <td>23931.000000</td>\n",
       "      <td>1.132187e+06</td>\n",
       "      <td>1.361978e+06</td>\n",
       "      <td>1361978.0</td>\n",
       "      <td>1.361978e+06</td>\n",
       "      <td>2.834820e+05</td>\n",
       "      <td>1.214368e+06</td>\n",
       "      <td>1.214368e+06</td>\n",
       "      <td>45603.000000</td>\n",
       "      <td>1.361978e+06</td>\n",
       "    </tr>\n",
       "    <tr>\n",
       "      <td>mean</td>\n",
       "      <td>7.169008e+05</td>\n",
       "      <td>441.503758</td>\n",
       "      <td>14.743387</td>\n",
       "      <td>-1.437861e+00</td>\n",
       "      <td>2.100107e-02</td>\n",
       "      <td>1.0</td>\n",
       "      <td>7.736925e+00</td>\n",
       "      <td>1.096807e+04</td>\n",
       "      <td>1.758460e+01</td>\n",
       "      <td>1.091249e+01</td>\n",
       "      <td>38.944083</td>\n",
       "      <td>2.489468e-02</td>\n",
       "    </tr>\n",
       "    <tr>\n",
       "      <td>std</td>\n",
       "      <td>4.138253e+05</td>\n",
       "      <td>411.822589</td>\n",
       "      <td>3.268965</td>\n",
       "      <td>4.719247e+00</td>\n",
       "      <td>1.433877e-01</td>\n",
       "      <td>0.0</td>\n",
       "      <td>1.027692e+02</td>\n",
       "      <td>5.941467e+04</td>\n",
       "      <td>6.850333e+01</td>\n",
       "      <td>5.318987e+01</td>\n",
       "      <td>69.307111</td>\n",
       "      <td>1.558042e-01</td>\n",
       "    </tr>\n",
       "    <tr>\n",
       "      <td>min</td>\n",
       "      <td>1.000000e+00</td>\n",
       "      <td>9.000000</td>\n",
       "      <td>1.000000</td>\n",
       "      <td>-1.200000e+01</td>\n",
       "      <td>0.000000e+00</td>\n",
       "      <td>1.0</td>\n",
       "      <td>-1.440000e+03</td>\n",
       "      <td>1.000000e+00</td>\n",
       "      <td>0.000000e+00</td>\n",
       "      <td>0.000000e+00</td>\n",
       "      <td>0.000000</td>\n",
       "      <td>0.000000e+00</td>\n",
       "    </tr>\n",
       "    <tr>\n",
       "      <td>25%</td>\n",
       "      <td>3.586152e+05</td>\n",
       "      <td>208.000000</td>\n",
       "      <td>13.000000</td>\n",
       "      <td>-5.000000e+00</td>\n",
       "      <td>0.000000e+00</td>\n",
       "      <td>1.0</td>\n",
       "      <td>0.000000e+00</td>\n",
       "      <td>3.000000e+01</td>\n",
       "      <td>1.000000e+00</td>\n",
       "      <td>1.000000e+00</td>\n",
       "      <td>0.000000</td>\n",
       "      <td>0.000000e+00</td>\n",
       "    </tr>\n",
       "    <tr>\n",
       "      <td>50%</td>\n",
       "      <td>7.169535e+05</td>\n",
       "      <td>232.000000</td>\n",
       "      <td>15.000000</td>\n",
       "      <td>-3.000000e+00</td>\n",
       "      <td>0.000000e+00</td>\n",
       "      <td>1.0</td>\n",
       "      <td>0.000000e+00</td>\n",
       "      <td>2.100000e+02</td>\n",
       "      <td>5.000000e+00</td>\n",
       "      <td>2.000000e+00</td>\n",
       "      <td>25.000000</td>\n",
       "      <td>0.000000e+00</td>\n",
       "    </tr>\n",
       "    <tr>\n",
       "      <td>75%</td>\n",
       "      <td>1.075188e+06</td>\n",
       "      <td>816.000000</td>\n",
       "      <td>18.000000</td>\n",
       "      <td>2.000000e+00</td>\n",
       "      <td>0.000000e+00</td>\n",
       "      <td>1.0</td>\n",
       "      <td>0.000000e+00</td>\n",
       "      <td>2.750000e+03</td>\n",
       "      <td>1.000000e+01</td>\n",
       "      <td>6.000000e+00</td>\n",
       "      <td>48.000000</td>\n",
       "      <td>0.000000e+00</td>\n",
       "    </tr>\n",
       "    <tr>\n",
       "      <td>max</td>\n",
       "      <td>1.433659e+06</td>\n",
       "      <td>1678.000000</td>\n",
       "      <td>18.000000</td>\n",
       "      <td>1.400000e+01</td>\n",
       "      <td>1.000000e+00</td>\n",
       "      <td>1.0</td>\n",
       "      <td>2.080800e+04</td>\n",
       "      <td>2.300000e+06</td>\n",
       "      <td>5.000000e+02</td>\n",
       "      <td>5.000000e+02</td>\n",
       "      <td>3468.000000</td>\n",
       "      <td>1.000000e+00</td>\n",
       "    </tr>\n",
       "  </tbody>\n",
       "</table>\n",
       "</div>"
      ],
      "text/plain": [
       "         account_id       plan_id  churn_reason     time_diff        paying  \\\n",
       "count  1.361978e+06  28603.000000  23931.000000  1.132187e+06  1.361978e+06   \n",
       "mean   7.169008e+05    441.503758     14.743387 -1.437861e+00  2.100107e-02   \n",
       "std    4.138253e+05    411.822589      3.268965  4.719247e+00  1.433877e-01   \n",
       "min    1.000000e+00      9.000000      1.000000 -1.200000e+01  0.000000e+00   \n",
       "25%    3.586152e+05    208.000000     13.000000 -5.000000e+00  0.000000e+00   \n",
       "50%    7.169535e+05    232.000000     15.000000 -3.000000e+00  0.000000e+00   \n",
       "75%    1.075188e+06    816.000000     18.000000  2.000000e+00  0.000000e+00   \n",
       "max    1.433659e+06   1678.000000     18.000000  1.400000e+01  1.000000e+00   \n",
       "\n",
       "        has_logo  collection_21_days  company_size  max_team_size  \\\n",
       "count  1361978.0        1.361978e+06  2.834820e+05   1.214368e+06   \n",
       "mean         1.0        7.736925e+00  1.096807e+04   1.758460e+01   \n",
       "std          0.0        1.027692e+02  5.941467e+04   6.850333e+01   \n",
       "min          1.0       -1.440000e+03  1.000000e+00   0.000000e+00   \n",
       "25%          1.0        0.000000e+00  3.000000e+01   1.000000e+00   \n",
       "50%          1.0        0.000000e+00  2.100000e+02   5.000000e+00   \n",
       "75%          1.0        0.000000e+00  2.750000e+03   1.000000e+01   \n",
       "max          1.0        2.080800e+04  2.300000e+06   5.000000e+02   \n",
       "\n",
       "       min_team_size           mrr    lead_score  \n",
       "count   1.214368e+06  45603.000000  1.361978e+06  \n",
       "mean    1.091249e+01     38.944083  2.489468e-02  \n",
       "std     5.318987e+01     69.307111  1.558042e-01  \n",
       "min     0.000000e+00      0.000000  0.000000e+00  \n",
       "25%     1.000000e+00      0.000000  0.000000e+00  \n",
       "50%     2.000000e+00     25.000000  0.000000e+00  \n",
       "75%     6.000000e+00     48.000000  0.000000e+00  \n",
       "max     5.000000e+02   3468.000000  1.000000e+00  "
      ]
     },
     "execution_count": 4,
     "metadata": {},
     "output_type": "execute_result"
    }
   ],
   "source": [
    "train_accounts.describe()[]"
   ]
  },
  {
   "cell_type": "code",
   "execution_count": 33,
   "metadata": {},
   "outputs": [
    {
     "data": {
      "text/plain": [
       "churn_date                 99.788396\n",
       "churn_reason               98.242923\n",
       "time_diff                  16.871858\n",
       "region                      6.497902\n",
       "country                     1.444664\n",
       "subscription_started_at    97.637847\n",
       "os                          0.006241\n",
       "browser                    14.107129\n",
       "company_size               79.186007\n",
       "payment_currency            0.586720\n",
       "max_team_size              10.837914\n",
       "min_team_size              10.837914\n",
       "industry                   36.059099\n",
       "utm_cluster_id             51.409861\n",
       "mrr                        96.651708\n",
       "user_goal                  64.376150\n",
       "user_description           77.307710\n",
       "team_size                  29.893875\n",
       "dtype: float64"
      ]
     },
     "execution_count": 33,
     "metadata": {},
     "output_type": "execute_result"
    }
   ],
   "source": [
    "na = train_accounts.isna().sum() / len(train_accounts) * 100\n",
    "na[na > 0]\n",
    "#train_accounts.count()"
   ]
  },
  {
   "cell_type": "code",
   "execution_count": 41,
   "metadata": {},
   "outputs": [
    {
     "data": {
      "text/plain": [
       "US    314456\n",
       "BR    155601\n",
       "MX    109291\n",
       "GB     65998\n",
       "CO     64330\n",
       "       ...  \n",
       "TK         1\n",
       "CC         1\n",
       "PM         1\n",
       "BQ         1\n",
       "AS         1\n",
       "Name: country, Length: 236, dtype: int64"
      ]
     },
     "execution_count": 41,
     "metadata": {},
     "output_type": "execute_result"
    }
   ],
   "source": [
    "train_accounts['country'].value_counts()"
   ]
  },
  {
   "cell_type": "code",
   "execution_count": 32,
   "metadata": {},
   "outputs": [],
   "source": [
    "\n",
    "train_accounts['plan_id'].fillna(0, inplace=True)"
   ]
  },
  {
   "cell_type": "code",
   "execution_count": 34,
   "metadata": {},
   "outputs": [
    {
     "data": {
      "text/plain": [
       "<matplotlib.axes._subplots.AxesSubplot at 0x7f594a4ec4e0>"
      ]
     },
     "execution_count": 34,
     "metadata": {},
     "output_type": "execute_result"
    },
    {
     "data": {
      "image/png": "[encoded data removed]",
      "text/plain": [
       "<Figure size 792x648 with 2 Axes>"
      ]
     },
     "metadata": {
      "needs_background": "light"
     },
     "output_type": "display_data"
    }
   ],
   "source": [
    "corrmat = train_accounts.select_dtypes('number').corr()\n",
    "f, ax = plt.subplots(figsize = (11,9))\n",
    "sns.heatmap(abs(corrmat), ax=ax, cmap='YlGnBu', linewidths= 0.1)"
   ]
  },
  {
   "cell_type": "markdown",
   "metadata": {},
   "source": [
    "account_id+ acount_name - remove, just id\n",
    "plan_id - remove, correlates with 'paying' and too many categories\n",
    "subscription_started_at - invesitgate with 'paying'\n",
    "paying - keep for later\n",
    "collection_21_days - keep fpr later\n",
    "mrr - keep for later\n",
    "has_logo - remove, one value feature\n",
    "created_at - keep for later\n",
    "trial_start - keep for later\n",
    "churn_* - investigate\n",
    "country, time_diff, region - maybe keep country, can fill time diff using country, maybe convert country to continent or to x,y and group\n",
    "device - keep, maybe remove tablet\n",
    "os - keep, remove blackberry\n",
    "browser - fill by existing dist\n",
    "payment_curency - to keep and investigate, maybe non common currency tend to pay more\n",
    "company_size - keep, maybe corr with lead. 80 nan, part of survy\n",
    "min/max_team_size - keep, maybe create one feature range\n",
    "industry - keep investigate\n",
    "utm_cluster_id - same as industry\n",
    "user_goal - part of survy\n",
    "user_description - part of survy\n",
    "team_size - part of survy"
   ]
  },
  {
   "cell_type": "code",
   "execution_count": 63,
   "metadata": {
    "scrolled": true
   },
   "outputs": [
    {
     "data": {
      "text/html": [
       "<div>\n",
       "<style scoped>\n",
       "    .dataframe tbody tr th:only-of-type {\n",
       "        vertical-align: middle;\n",
       "    }\n",
       "\n",
       "    .dataframe tbody tr th {\n",
       "        vertical-align: top;\n",
       "    }\n",
       "\n",
       "    .dataframe thead th {\n",
       "        text-align: right;\n",
       "    }\n",
       "</style>\n",
       "<table border=\"1\" class=\"dataframe\">\n",
       "  <thead>\n",
       "    <tr style=\"text-align: right;\">\n",
       "      <th></th>\n",
       "      <th>account_id</th>\n",
       "      <th>account_name</th>\n",
       "      <th>created_at</th>\n",
       "      <th>plan_id</th>\n",
       "      <th>trial_start</th>\n",
       "      <th>churn_date</th>\n",
       "      <th>churn_reason</th>\n",
       "      <th>time_diff</th>\n",
       "      <th>region</th>\n",
       "      <th>country</th>\n",
       "      <th>subscription_started_at</th>\n",
       "      <th>paying</th>\n",
       "      <th>has_logo</th>\n",
       "      <th>device</th>\n",
       "      <th>os</th>\n",
       "      <th>browser</th>\n",
       "      <th>collection_21_days</th>\n",
       "      <th>company_size</th>\n",
       "      <th>payment_currency</th>\n",
       "      <th>max_team_size</th>\n",
       "      <th>min_team_size</th>\n",
       "      <th>industry</th>\n",
       "      <th>utm_cluster_id</th>\n",
       "      <th>mrr</th>\n",
       "      <th>user_goal</th>\n",
       "      <th>user_description</th>\n",
       "      <th>team_size</th>\n",
       "      <th>lead_score</th>\n",
       "    </tr>\n",
       "  </thead>\n",
       "  <tbody>\n",
       "    <tr>\n",
       "      <td>0</td>\n",
       "      <td>1.0</td>\n",
       "      <td>Gardner, Barron and Keller</td>\n",
       "      <td>2019-01-01 00:01:15</td>\n",
       "      <td>0.0</td>\n",
       "      <td>2019-01-01 00:01:15</td>\n",
       "      <td>NaN</td>\n",
       "      <td>NaN</td>\n",
       "      <td>11.0</td>\n",
       "      <td>New South Wales</td>\n",
       "      <td>AU</td>\n",
       "      <td>NaN</td>\n",
       "      <td>0</td>\n",
       "      <td>1</td>\n",
       "      <td>desktop</td>\n",
       "      <td>windows</td>\n",
       "      <td>microsoft edge</td>\n",
       "      <td>0</td>\n",
       "      <td>NaN</td>\n",
       "      <td>AUD</td>\n",
       "      <td>5.0</td>\n",
       "      <td>2.0</td>\n",
       "      <td>NaN</td>\n",
       "      <td>orders</td>\n",
       "      <td>NaN</td>\n",
       "      <td>NaN</td>\n",
       "      <td>NaN</td>\n",
       "      <td>NaN</td>\n",
       "      <td>0</td>\n",
       "    </tr>\n",
       "    <tr>\n",
       "      <td>1</td>\n",
       "      <td>2.0</td>\n",
       "      <td>Dunn Ltd</td>\n",
       "      <td>2019-01-01 00:01:52</td>\n",
       "      <td>0.0</td>\n",
       "      <td>2019-01-01 00:01:52</td>\n",
       "      <td>NaN</td>\n",
       "      <td>NaN</td>\n",
       "      <td>NaN</td>\n",
       "      <td>New Jersey</td>\n",
       "      <td>US</td>\n",
       "      <td>NaN</td>\n",
       "      <td>0</td>\n",
       "      <td>1</td>\n",
       "      <td>mobile</td>\n",
       "      <td>ios</td>\n",
       "      <td>NaN</td>\n",
       "      <td>0</td>\n",
       "      <td>NaN</td>\n",
       "      <td>USD</td>\n",
       "      <td>5.0</td>\n",
       "      <td>2.0</td>\n",
       "      <td>NaN</td>\n",
       "      <td>NaN</td>\n",
       "      <td>NaN</td>\n",
       "      <td>NaN</td>\n",
       "      <td>NaN</td>\n",
       "      <td>NaN</td>\n",
       "      <td>0</td>\n",
       "    </tr>\n",
       "    <tr>\n",
       "      <td>2</td>\n",
       "      <td>3.0</td>\n",
       "      <td>Boone Inc</td>\n",
       "      <td>2019-01-01 00:03:12</td>\n",
       "      <td>0.0</td>\n",
       "      <td>2019-01-01 00:03:12</td>\n",
       "      <td>NaN</td>\n",
       "      <td>NaN</td>\n",
       "      <td>-6.0</td>\n",
       "      <td>Louisiana</td>\n",
       "      <td>US</td>\n",
       "      <td>NaN</td>\n",
       "      <td>0</td>\n",
       "      <td>1</td>\n",
       "      <td>desktop</td>\n",
       "      <td>windows</td>\n",
       "      <td>chrome</td>\n",
       "      <td>0</td>\n",
       "      <td>NaN</td>\n",
       "      <td>USD</td>\n",
       "      <td>1.0</td>\n",
       "      <td>1.0</td>\n",
       "      <td>Other</td>\n",
       "      <td>todos</td>\n",
       "      <td>NaN</td>\n",
       "      <td>NaN</td>\n",
       "      <td>NaN</td>\n",
       "      <td>1</td>\n",
       "      <td>0</td>\n",
       "    </tr>\n",
       "    <tr>\n",
       "      <td>3</td>\n",
       "      <td>4.0</td>\n",
       "      <td>Christian, Carroll and Davis</td>\n",
       "      <td>2019-01-01 00:04:11</td>\n",
       "      <td>0.0</td>\n",
       "      <td>2019-01-01 00:04:11</td>\n",
       "      <td>NaN</td>\n",
       "      <td>NaN</td>\n",
       "      <td>NaN</td>\n",
       "      <td>Tel Aviv</td>\n",
       "      <td>IL</td>\n",
       "      <td>NaN</td>\n",
       "      <td>0</td>\n",
       "      <td>1</td>\n",
       "      <td>mobile</td>\n",
       "      <td>android</td>\n",
       "      <td>NaN</td>\n",
       "      <td>0</td>\n",
       "      <td>NaN</td>\n",
       "      <td>USD</td>\n",
       "      <td>NaN</td>\n",
       "      <td>NaN</td>\n",
       "      <td>NaN</td>\n",
       "      <td>NaN</td>\n",
       "      <td>NaN</td>\n",
       "      <td>NaN</td>\n",
       "      <td>NaN</td>\n",
       "      <td>NaN</td>\n",
       "      <td>0</td>\n",
       "    </tr>\n",
       "    <tr>\n",
       "      <td>4</td>\n",
       "      <td>5.0</td>\n",
       "      <td>Brooks-Oliver</td>\n",
       "      <td>2019-01-01 00:04:21</td>\n",
       "      <td>0.0</td>\n",
       "      <td>2019-04-04 11:09:12</td>\n",
       "      <td>NaN</td>\n",
       "      <td>NaN</td>\n",
       "      <td>-5.0</td>\n",
       "      <td>North Carolina</td>\n",
       "      <td>US</td>\n",
       "      <td>NaN</td>\n",
       "      <td>0</td>\n",
       "      <td>1</td>\n",
       "      <td>desktop</td>\n",
       "      <td>chrome_os</td>\n",
       "      <td>chrome</td>\n",
       "      <td>0</td>\n",
       "      <td>NaN</td>\n",
       "      <td>USD</td>\n",
       "      <td>1.0</td>\n",
       "      <td>1.0</td>\n",
       "      <td>Design</td>\n",
       "      <td>todos</td>\n",
       "      <td>NaN</td>\n",
       "      <td>NaN</td>\n",
       "      <td>NaN</td>\n",
       "      <td>1</td>\n",
       "      <td>0</td>\n",
       "    </tr>\n",
       "  </tbody>\n",
       "</table>\n",
       "</div>"
      ],
      "text/plain": [
       "   account_id                  account_name           created_at  plan_id  \\\n",
       "0         1.0    Gardner, Barron and Keller  2019-01-01 00:01:15      0.0   \n",
       "1         2.0                      Dunn Ltd  2019-01-01 00:01:52      0.0   \n",
       "2         3.0                     Boone Inc  2019-01-01 00:03:12      0.0   \n",
       "3         4.0  Christian, Carroll and Davis  2019-01-01 00:04:11      0.0   \n",
       "4         5.0                 Brooks-Oliver  2019-01-01 00:04:21      0.0   \n",
       "\n",
       "           trial_start churn_date  churn_reason  time_diff           region  \\\n",
       "0  2019-01-01 00:01:15        NaN           NaN       11.0  New South Wales   \n",
       "1  2019-01-01 00:01:52        NaN           NaN        NaN       New Jersey   \n",
       "2  2019-01-01 00:03:12        NaN           NaN       -6.0        Louisiana   \n",
       "3  2019-01-01 00:04:11        NaN           NaN        NaN         Tel Aviv   \n",
       "4  2019-04-04 11:09:12        NaN           NaN       -5.0   North Carolina   \n",
       "\n",
       "  country subscription_started_at  paying  has_logo   device         os  \\\n",
       "0      AU                     NaN       0         1  desktop    windows   \n",
       "1      US                     NaN       0         1   mobile        ios   \n",
       "2      US                     NaN       0         1  desktop    windows   \n",
       "3      IL                     NaN       0         1   mobile    android   \n",
       "4      US                     NaN       0         1  desktop  chrome_os   \n",
       "\n",
       "          browser  collection_21_days  company_size payment_currency  \\\n",
       "0  microsoft edge                   0           NaN              AUD   \n",
       "1             NaN                   0           NaN              USD   \n",
       "2          chrome                   0           NaN              USD   \n",
       "3             NaN                   0           NaN              USD   \n",
       "4          chrome                   0           NaN              USD   \n",
       "\n",
       "   max_team_size  min_team_size industry utm_cluster_id  mrr user_goal  \\\n",
       "0            5.0            2.0      NaN         orders  NaN       NaN   \n",
       "1            5.0            2.0      NaN            NaN  NaN       NaN   \n",
       "2            1.0            1.0    Other          todos  NaN       NaN   \n",
       "3            NaN            NaN      NaN            NaN  NaN       NaN   \n",
       "4            1.0            1.0   Design          todos  NaN       NaN   \n",
       "\n",
       "  user_description team_size  lead_score  \n",
       "0              NaN       NaN           0  \n",
       "1              NaN       NaN           0  \n",
       "2              NaN         1           0  \n",
       "3              NaN       NaN           0  \n",
       "4              NaN         1           0  "
      ]
     },
     "execution_count": 63,
     "metadata": {},
     "output_type": "execute_result"
    }
   ],
   "source": [
    "train_accounts.head()"
   ]
  },
  {
   "cell_type": "code",
   "execution_count": 86,
   "metadata": {},
   "outputs": [
    {
     "data": {
      "text/plain": [
       "0           NaN\n",
       "1           NaN\n",
       "2             1\n",
       "3           NaN\n",
       "4             1\n",
       "           ... \n",
       "1361973     1-1\n",
       "1361974     2-5\n",
       "1361975     NaN\n",
       "1361976     1-1\n",
       "1361977    6-10\n",
       "Name: team_size, Length: 1361978, dtype: object"
      ]
     },
     "execution_count": 86,
     "metadata": {},
     "output_type": "execute_result"
    }
   ],
   "source": [
    "train_accounts.team_size"
   ]
  },
  {
   "cell_type": "code",
   "execution_count": 84,
   "metadata": {},
   "outputs": [
    {
     "data": {
      "text/plain": [
       "todos                   198206\n",
       "internal_projects       150673\n",
       "client_projects         105920\n",
       "crm                      41321\n",
       "marketing                36953\n",
       "time_management          27133\n",
       "Other                    25542\n",
       "orders                   18628\n",
       "tech                     18477\n",
       "other                    10259\n",
       "product_roadmap           7504\n",
       "project_management        7291\n",
       "hr                        7026\n",
       "event_planning            2159\n",
       "tasks_management          1646\n",
       "construction               711\n",
       "marketing_startup          588\n",
       "generic                    515\n",
       "supply_chain               306\n",
       "time_tracking              249\n",
       "calendar_planning          233\n",
       "virality_form              145\n",
       "communication              144\n",
       "creative                   137\n",
       "virality_broadcast          16\n",
       "design_and_creative          4\n",
       "design_and_creative          1\n",
       "Name: utm_cluster_id, dtype: int64"
      ]
     },
     "execution_count": 84,
     "metadata": {},
     "output_type": "execute_result"
    }
   ],
   "source": [
    "\n",
    "train_accounts.utm_cluster_id.value_counts()"
   ]
  },
  {
   "cell_type": "code",
   "execution_count": 91,
   "metadata": {},
   "outputs": [
    {
     "data": {
      "text/plain": [
       "2-5               352333\n",
       "1-1               302656\n",
       "6-10              145526\n",
       "11-15              53344\n",
       "16-25              39221\n",
       "26-50              26579\n",
       "51-100             13439\n",
       "500                10519\n",
       "101-500             7705\n",
       "1                   2501\n",
       "Solo yo              663\n",
       "Moi uniquement       159\n",
       "Apenas eu            112\n",
       "Nur ich               40\n",
       "0                     21\n",
       "2                      7\n",
       "8                      3\n",
       "3                      2\n",
       "Name: team_size, dtype: int64"
      ]
     },
     "execution_count": 91,
     "metadata": {},
     "output_type": "execute_result"
    }
   ],
   "source": [
    "train_accounts.team_size.value_counts()"
   ]
  },
  {
   "cell_type": "code",
   "execution_count": 71,
   "metadata": {},
   "outputs": [],
   "source": [
    "train_accounts['team_size'] = (train_accounts.min_team_size.astype(str) + '-' + train_accounts.max_team_size.astype(str))"
   ]
  },
  {
   "cell_type": "code",
   "execution_count": 74,
   "metadata": {},
   "outputs": [
    {
     "data": {
      "text/plain": [
       "2.0-5.0        437155\n",
       "1.0-1.0        367151\n",
       "6.0-10.0       178895\n",
       "nan-nan        147610\n",
       "11.0-15.0       65680\n",
       "16.0-25.0       48538\n",
       "0.0-0.0         44259\n",
       "26.0-50.0       33056\n",
       "51.0-100.0      16567\n",
       "500.0-500.0     13558\n",
       "101.0-500.0      9448\n",
       "1.0-15.0           44\n",
       "2.0-2.0             7\n",
       "8.0-8.0             3\n",
       "15.0-50.0           3\n",
       "50.0-150.0          2\n",
       "3.0-3.0             2\n",
       "Name: team_size, dtype: int64"
      ]
     },
     "execution_count": 74,
     "metadata": {},
     "output_type": "execute_result"
    }
   ],
   "source": [
    "a = train_accounts.team_size.value_counts()\n",
    "a"
   ]
  },
  {
   "cell_type": "code",
   "execution_count": 75,
   "metadata": {},
   "outputs": [
    {
     "data": {
      "text/plain": [
       "2.0-5.0        10012\n",
       "6.0-10.0        7156\n",
       "1.0-1.0         3597\n",
       "11.0-15.0       3537\n",
       "16.0-25.0       2670\n",
       "nan-nan         2123\n",
       "26.0-50.0       1965\n",
       "51.0-100.0      1058\n",
       "101.0-500.0      737\n",
       "0.0-0.0          534\n",
       "500.0-500.0      516\n",
       "1.0-15.0           1\n",
       "Name: team_size, dtype: int64"
      ]
     },
     "execution_count": 75,
     "metadata": {},
     "output_type": "execute_result"
    }
   ],
   "source": [
    "b = train_accounts[train_accounts.lead_score==1].team_size.value_counts()\n",
    "b"
   ]
  },
  {
   "cell_type": "code",
   "execution_count": 76,
   "metadata": {},
   "outputs": [
    {
     "data": {
      "text/plain": [
       "0.0-0.0        0.012065\n",
       "1.0-1.0        0.009797\n",
       "1.0-15.0       0.022727\n",
       "101.0-500.0    0.078006\n",
       "11.0-15.0      0.053852\n",
       "15.0-50.0           NaN\n",
       "16.0-25.0      0.055008\n",
       "2.0-2.0             NaN\n",
       "2.0-5.0        0.022903\n",
       "26.0-50.0      0.059445\n",
       "3.0-3.0             NaN\n",
       "50.0-150.0          NaN\n",
       "500.0-500.0    0.038059\n",
       "51.0-100.0     0.063862\n",
       "6.0-10.0       0.040001\n",
       "8.0-8.0             NaN\n",
       "nan-nan        0.014382\n",
       "Name: team_size, dtype: float64"
      ]
     },
     "execution_count": 76,
     "metadata": {},
     "output_type": "execute_result"
    }
   ],
   "source": [
    "b / a"
   ]
  },
  {
   "cell_type": "code",
   "execution_count": 78,
   "metadata": {},
   "outputs": [
    {
     "data": {
      "text/plain": [
       "0.04000111797423069"
      ]
     },
     "execution_count": 78,
     "metadata": {},
     "output_type": "execute_result"
    }
   ],
   "source": [
    "7156 / 178895"
   ]
  },
  {
   "cell_type": "code",
   "execution_count": null,
   "metadata": {},
   "outputs": [],
   "source": []
  },
  {
   "cell_type": "code",
   "execution_count": 122,
   "metadata": {},
   "outputs": [],
   "source": [
    "from sklearn.linear_model import LogisticRegression\n",
    "from sklearn import metrics\n",
    "from sklearn.metrics import confusion_matrix, classification_report\n",
    "from sklearn.model_selection import train_test_split"
   ]
  },
  {
   "cell_type": "code",
   "execution_count": 112,
   "metadata": {},
   "outputs": [
    {
     "name": "stderr",
     "output_type": "stream",
     "text": [
      "/home/ran/Dev/dh_yyr/venv/lib/python3.6/site-packages/IPython/core/interactiveshell.py:3058: DtypeWarning: Columns (24,25) have mixed types. Specify dtype option on import or set low_memory=False.\n",
      "  interactivity=interactivity, compiler=compiler, result=result)\n"
     ]
    }
   ],
   "source": [
    "train_accounts = pd.read_csv(data_path + 'train_accounts.csv')\n",
    "train_accounts = train_accounts[['account_id','max_team_size','lead_score']].set_index('account_id')\n",
    "train_accounts.dropna(inplace=True)\n",
    "accounts_sample = train_accounts.sample(frac=0.1)\n",
    "y = accounts_sample.pop('lead_score')\n",
    "x = accounts_sample"
   ]
  },
  {
   "cell_type": "code",
   "execution_count": 114,
   "metadata": {},
   "outputs": [],
   "source": [
    "from sklearn.linear_model import LogisticRegression\n",
    "from sklearn import metrics\n",
    "from sklearn.metrics import classification_report"
   ]
  },
  {
   "cell_type": "code",
   "execution_count": 116,
   "metadata": {},
   "outputs": [
    {
     "name": "stderr",
     "output_type": "stream",
     "text": [
      "/home/ran/Dev/dh_yyr/venv/lib/python3.6/site-packages/sklearn/linear_model/logistic.py:432: FutureWarning: Default solver will be changed to 'lbfgs' in 0.22. Specify a solver to silence this warning.\n",
      "  FutureWarning)\n"
     ]
    }
   ],
   "source": [
    "x_train, x_test, y_train, y_test = train_test_split(x, y, test_size=0.05, random_state=42)\n",
    "model = LogisticRegression()\n",
    "model.fit(x_train,y_train)\n",
    "y_pred = model.predict(x_test)"
   ]
  },
  {
   "cell_type": "code",
   "execution_count": 129,
   "metadata": {},
   "outputs": [
    {
     "name": "stdout",
     "output_type": "stream",
     "text": [
      "              precision    recall  f1-score   support\n",
      "\n",
      "    not lead       0.97      1.00      0.99      5917\n",
      "        lead       0.00      0.00      0.00       155\n",
      "\n",
      "    accuracy                           0.97      6072\n",
      "   macro avg       0.49      0.50      0.49      6072\n",
      "weighted avg       0.95      0.97      0.96      6072\n",
      "\n",
      "Acc:  0.974308300395257\n",
      "MCC: -0.0020772317306151627\n",
      "F1:  0.0\n"
     ]
    }
   ],
   "source": [
    "y_pred[1] = 1\n",
    "print(classification_report(y_test, y_pred, target_names=['not lead','lead']))\n",
    "print('Acc:  {}'.format(metrics.accuracy_score(y_test, y_pred)))\n",
    "print('MCC: {}'.format(metrics.matthews_corrcoef(y_test, y_pred)))\n",
    "print('F1:  {}'.format(metrics.f1_score(y_test, y_pred)))"
   ]
  }
 ],
 "metadata": {
  "kernelspec": {
   "display_name": "Python 3",
   "language": "python",
   "name": "python3"
  },
  "language_info": {
   "codemirror_mode": {
    "name": "ipython",
    "version": 3
   },
   "file_extension": ".py",
   "mimetype": "text/x-python",
   "name": "python",
   "nbconvert_exporter": "python",
   "pygments_lexer": "ipython3",
   "version": "3.6.6"
  }
 },
 "nbformat": 4,
 "nbformat_minor": 2
}

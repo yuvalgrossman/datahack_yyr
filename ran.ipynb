{
 "cells": [
  {
   "cell_type": "code",
   "execution_count": 2,
   "metadata": {},
   "outputs": [],
   "source": [
    "import pandas as pd\n",
    "pd.set_option('display.max_columns', 500)\n",
    "import seaborn as sns"
   ]
  },
  {
   "cell_type": "code",
   "execution_count": 3,
   "metadata": {},
   "outputs": [],
   "source": [
    "data_path = './data/'"
   ]
  },
  {
   "cell_type": "code",
   "execution_count": 4,
   "metadata": {},
   "outputs": [
    {
     "name": "stderr",
     "output_type": "stream",
     "text": [
      "/home/ran/Dev/dh_yyr/venv/lib/python3.6/site-packages/IPython/core/interactiveshell.py:3058: DtypeWarning: Columns (24,25) have mixed types. Specify dtype option on import or set low_memory=False.\n",
      "  interactivity=interactivity, compiler=compiler, result=result)\n"
     ]
    }
   ],
   "source": [
    "train_accounts = pd.read_csv(data_path + 'train_accounts.csv')"
   ]
  },
  {
   "cell_type": "code",
   "execution_count": 5,
   "metadata": {},
   "outputs": [],
   "source": [
    "train_accounts = pd.read_csv(data_path + 'train_accounts.csv')\n",
    "train_users = pd.read_csv(data_path + 'train_users.csv')\n",
    "# train_events = pd.read_csv(data_path + 'train_events.csv')\n",
    "# train_subscriptions = pd.read_csv(data_path + 'train_subscriptions.csv')\n",
    "test_accounts = pd.read_csv(data_path + 'test_accounts.csv')\n",
    "test_users = pd.read_csv(data_path + 'test_users.csv')\n",
    "# test_events = pd.read_csv(data_path + 'test_events.csv')\n",
    "# test_subscriptions = pd.read_csv(data_path + 'test_subscriptions.csv')"
   ]
  },
  {
   "cell_type": "markdown",
   "metadata": {},
   "source": [
    "accounts = pd.concat([train_accounts, test_accounts], sort=False)\n",
    "users = pd.concat([train_users, test_users], sort=False)\n",
    "events = pd.concat([train_events, test_events], sort=False)\n",
    "subscriptions = pd.concat([train_subscriptions, test_subscriptions], sort=False)\n",
    "print(f'accounts: {len(accounts)}')\n",
    "print(f'users {len(users)}')\n",
    "print(f'events {len(events)}')\n",
    "print(f'subs {len(subscriptions)}')"
   ]
  },
  {
   "cell_type": "code",
   "execution_count": 33,
   "metadata": {},
   "outputs": [
    {
     "data": {
      "text/plain": [
       "churn_date                 99.788396\n",
       "churn_reason               98.242923\n",
       "time_diff                  16.871858\n",
       "region                      6.497902\n",
       "country                     1.444664\n",
       "subscription_started_at    97.637847\n",
       "os                          0.006241\n",
       "browser                    14.107129\n",
       "company_size               79.186007\n",
       "payment_currency            0.586720\n",
       "max_team_size              10.837914\n",
       "min_team_size              10.837914\n",
       "industry                   36.059099\n",
       "utm_cluster_id             51.409861\n",
       "mrr                        96.651708\n",
       "user_goal                  64.376150\n",
       "user_description           77.307710\n",
       "team_size                  29.893875\n",
       "dtype: float64"
      ]
     },
     "execution_count": 33,
     "metadata": {},
     "output_type": "execute_result"
    }
   ],
   "source": [
    "na = train_accounts.isna().sum() / len(train_accounts) * 100\n",
    "na[na > 0]\n",
    "#train_accounts.count()"
   ]
  },
  {
   "cell_type": "code",
   "execution_count": 34,
   "metadata": {},
   "outputs": [
    {
     "data": {
      "text/plain": [
       "<matplotlib.axes._subplots.AxesSubplot at 0x7f594a4ec4e0>"
      ]
     },
     "execution_count": 34,
     "metadata": {},
     "output_type": "execute_result"
    },
    {
     "data": {
      "image/png": "[encoded data removed]",
      "text/plain": [
       "<Figure size 792x648 with 2 Axes>"
      ]
     },
     "metadata": {
      "needs_background": "light"
     },
     "output_type": "display_data"
    }
   ],
   "source": [
    "corrmat = train_accounts.select_dtypes('number').corr()\n",
    "f, ax = plt.subplots(figsize = (11,9))\n",
    "sns.heatmap(abs(corrmat), ax=ax, cmap='YlGnBu', linewidths= 0.1)"
   ]
  },
  {
   "cell_type": "markdown",
   "metadata": {},
   "source": [
    "account_id+ acount_name - remove, just id\n",
    "plan_id - remove, correlates with 'paying' and too many categories\n",
    "subscription_started_at - invesitgate with 'paying'\n",
    "paying - keep for later\n",
    "collection_21_days - keep fpr later\n",
    "mrr - keep for later\n",
    "has_logo - remove, one value feature\n",
    "created_at - keep for later\n",
    "trial_start - keep for later\n",
    "churn_* - investigate\n",
    "country, time_diff, region - maybe keep country, can fill time diff using country, maybe convert country to continent or to x,y and group\n",
    "device - keep, maybe remove tablet\n",
    "os - keep, remove blackberry\n",
    "browser - fill by existing dist\n",
    "payment_curency - to keep and investigate, maybe non common currency tend to pay more\n",
    "company_size - keep, maybe corr with lead. 80 nan, part of survy\n",
    "min/max_team_size - keep, maybe create one feature range\n",
    "industry - keep investigate\n",
    "utm_cluster_id - same as industry\n",
    "user_goal - part of survy\n",
    "user_description - part of survy\n",
    "team_size - part of survy"
   ]
  },
  {
   "cell_type": "code",
   "execution_count": null,
   "metadata": {},
   "outputs": [],
   "source": []
  },
  {
   "cell_type": "code",
   "execution_count": 45,
   "metadata": {},
   "outputs": [],
   "source": [
    "train_users['is_manager'] =  (train_users.seniority == 'manager').astype(int)\n",
    "train_users['executive'] = (train_users.seniority == 'executive').astype(int)\n",
    "train_users['director'] = (train_users.seniority == 'director').astype(int)"
   ]
  },
  {
   "cell_type": "code",
   "execution_count": 46,
   "metadata": {},
   "outputs": [],
   "source": [
    "def is_public_domain(domain):\n",
    "    public_domain = {'gmail.com','hotmail.com'}\n",
    "    return domain in public_domain"
   ]
  },
  {
   "cell_type": "code",
   "execution_count": 47,
   "metadata": {},
   "outputs": [],
   "source": [
    "train_users['is_public_domain'] = train_users['email'].apply(lambda email: 1 if is_public_domain(email[email.index('@')+1:]) else 0)"
   ]
  },
  {
   "cell_type": "code",
   "execution_count": 50,
   "metadata": {},
   "outputs": [
    {
     "data": {
      "text/plain": [
       "<pandas.core.groupby.generic.DataFrameGroupBy object at 0x7f91c5bc3780>"
      ]
     },
     "execution_count": 50,
     "metadata": {},
     "output_type": "execute_result"
    }
   ],
   "source": [
    "train_users.groupby('account_id')"
   ]
  },
  {
   "cell_type": "code",
   "execution_count": null,
   "metadata": {},
   "outputs": [],
   "source": [
    "train_users.sample()"
   ]
  },
  {
   "cell_type": "code",
   "execution_count": 1,
   "metadata": {},
   "outputs": [
    {
     "ename": "NameError",
     "evalue": "name 'train_users' is not defined",
     "output_type": "error",
     "traceback": [
      "\u001b[0;31m---------------------------------------------------------------------------\u001b[0m",
      "\u001b[0;31mNameError\u001b[0m                                 Traceback (most recent call last)",
      "\u001b[0;32m<ipython-input-1-8be49c3e4006>\u001b[0m in \u001b[0;36m<module>\u001b[0;34m\u001b[0m\n\u001b[0;32m----> 1\u001b[0;31m \u001b[0mtrain_users\u001b[0m\u001b[0;34m[\u001b[0m\u001b[0mtrain_users\u001b[0m\u001b[0;34m.\u001b[0m\u001b[0mis_admin\u001b[0m\u001b[0;34m==\u001b[0m\u001b[0;36m1\u001b[0m\u001b[0;34m]\u001b[0m\u001b[0;34m.\u001b[0m\u001b[0mgroupby\u001b[0m\u001b[0;34m(\u001b[0m\u001b[0;34m'account_id'\u001b[0m\u001b[0;34m)\u001b[0m\u001b[0;34m.\u001b[0m\u001b[0mapply\u001b[0m\u001b[0;34m(\u001b[0m\u001b[0;32mlambda\u001b[0m \u001b[0mgroup\u001b[0m\u001b[0;34m:\u001b[0m \u001b[0msum\u001b[0m\u001b[0;34m(\u001b[0m\u001b[0mgroup\u001b[0m\u001b[0;34m.\u001b[0m\u001b[0mseniority\u001b[0m\u001b[0;34m.\u001b[0m\u001b[0misna\u001b[0m\u001b[0;34m(\u001b[0m\u001b[0;34m)\u001b[0m\u001b[0;34m)\u001b[0m\u001b[0;34m)\u001b[0m\u001b[0;34m\u001b[0m\u001b[0;34m\u001b[0m\u001b[0m\n\u001b[0m",
      "\u001b[0;31mNameError\u001b[0m: name 'train_users' is not defined"
     ]
    }
   ],
   "source": [
    "train_users[train_users.is_admin==1].samle().groupby('account_id').apply(lambda group: sum(group.seniority.isna()))"
   ]
  }
 ],
 "metadata": {
  "kernelspec": {
   "display_name": "Python 3",
   "language": "python",
   "name": "python3"
  },
  "language_info": {
   "codemirror_mode": {
    "name": "ipython",
    "version": 3
   },
   "file_extension": ".py",
   "mimetype": "text/x-python",
   "name": "python",
   "nbconvert_exporter": "python",
   "pygments_lexer": "ipython3",
   "version": "3.6.8"
  }
 },
 "nbformat": 4,
 "nbformat_minor": 2
}
